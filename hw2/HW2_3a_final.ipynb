{
 "cells": [
  {
   "cell_type": "code",
   "execution_count": 25,
   "metadata": {},
   "outputs": [],
   "source": [
    "import tensorflow as tf\n",
    "import numpy as np\n",
    "import matplotlib.pyplot as plt\n",
    "import timeit\n",
    "import time\n",
    "from sklearn.utils import shuffle\n",
    "old_v = tf.logging.get_verbosity()\n",
    "tf.logging.set_verbosity(tf.logging.ERROR)"
   ]
  },
  {
   "cell_type": "markdown",
   "metadata": {},
   "source": [
    "<h1>Extract MNIST data</h1>"
   ]
  },
  {
   "cell_type": "code",
   "execution_count": 2,
   "metadata": {},
   "outputs": [
    {
     "name": "stdout",
     "output_type": "stream",
     "text": [
      "Successfully downloaded train-images-idx3-ubyte.gz 9912422 bytes.\n",
      "Extracting MNIST_data/train-images-idx3-ubyte.gz\n",
      "Successfully downloaded train-labels-idx1-ubyte.gz 28881 bytes.\n",
      "Extracting MNIST_data/train-labels-idx1-ubyte.gz\n",
      "Successfully downloaded t10k-images-idx3-ubyte.gz 1648877 bytes.\n",
      "Extracting MNIST_data/t10k-images-idx3-ubyte.gz\n",
      "Successfully downloaded t10k-labels-idx1-ubyte.gz 4542 bytes.\n",
      "Extracting MNIST_data/t10k-labels-idx1-ubyte.gz\n"
     ]
    }
   ],
   "source": [
    "from tensorflow.examples.tutorials.mnist import input_data\n",
    "#get mnist data, with one_hot encoding, reshape = False (that means images are not flatten)\n",
    "mnist = input_data.read_data_sets(\"MNIST_data/\",reshape=False,one_hot=True)\n",
    "#suppress warnings\n",
    "tf.logging.set_verbosity(old_v)"
   ]
  },
  {
   "cell_type": "markdown",
   "metadata": {},
   "source": [
    "<h1>Prepare training, validation and testing data</h1>"
   ]
  },
  {
   "cell_type": "code",
   "execution_count": 12,
   "metadata": {},
   "outputs": [
    {
     "name": "stdout",
     "output_type": "stream",
     "text": [
      "(32, 32, 1)\n"
     ]
    }
   ],
   "source": [
    "x_train, y_train           = mnist.train.images, mnist.train.labels\n",
    "x_validation, y_validation = mnist.validation.images, mnist.validation.labels\n",
    "x_test, y_test             = mnist.test.images, mnist.test.labels\n",
    "\n",
    "x_train_reshape = []\n",
    "x_validation_reshape = []\n",
    "x_test_reshape = []\n",
    "#pad images with 0s (28x28 to 32x32)\n",
    "for i in range(len(x_train)):\n",
    "    pad = np.pad(x_train[i], ((2,2),(2,2),(0,0)), 'constant')\n",
    "    x_train_reshape.append(pad)\n",
    "for i in range(len(x_validation)):\n",
    "    pad = np.pad(x_validation[i], ((2,2),(2,2),(0,0)), 'constant')\n",
    "    x_validation_reshape.append(pad)\n",
    "for i in range(len(x_test)):\n",
    "    pad = np.pad(x_test[i], ((2,2),(2,2),(0,0)), 'constant')\n",
    "    x_test_reshape.append(pad)\n",
    "print(x_test_reshape[0].shape)"
   ]
  },
  {
   "cell_type": "code",
   "execution_count": 11,
   "metadata": {},
   "outputs": [
    {
     "name": "stdout",
     "output_type": "stream",
     "text": [
      "(10,)\n"
     ]
    }
   ],
   "source": [
    "print(y_train[0].shape)"
   ]
  },
  {
   "cell_type": "markdown",
   "metadata": {},
   "source": [
    "<h1>Define hyperparameter</h1>"
   ]
  },
  {
   "cell_type": "code",
   "execution_count": 90,
   "metadata": {},
   "outputs": [],
   "source": [
    "batch_size = 256\n",
    "lr = 0.0008\n",
    "epoch = 30\n",
    "inp_size = 32\n",
    "conv1 = {\"size\": 5, \"nums\": 6, \"stride\": 1}\n",
    "conv2 = {\"size\": 5, \"nums\": 16, \"stride\": 1}\n",
    "maxPool = {\"size\": 2, \"stride\": 2}\n",
    "hidden_size1 = 120\n",
    "hidden_size2 = 84\n",
    "out_size = 10"
   ]
  },
  {
   "cell_type": "code",
   "execution_count": 91,
   "metadata": {},
   "outputs": [
    {
     "name": "stdout",
     "output_type": "stream",
     "text": [
      "(5000, 32, 32, 1) (5000, 10)\n"
     ]
    }
   ],
   "source": [
    "pass_num = len(x_train) // batch_size\n",
    "def get_batch(i, size):\n",
    "    inp = [inp for inp in x_train_reshape[(i * size):((i + 1) * size)]]\n",
    "    label = [lab for lab in y_train[(i * size):((i + 1) * size)]]\n",
    "    X_inp = np.empty((len(inp), inp_size, inp_size, 1), dtype=np.float32)\n",
    "    y_label = np.empty((len(inp),10), dtype=np.float32)\n",
    "    for j in range(len(inp)):\n",
    "        X_inp[j] = inp[j]\n",
    "        y_label[j] = label[j]\n",
    "    return (X_inp, y_label)\n",
    "\n",
    "def val_data():\n",
    "    X_inp = np.empty((len(x_validation_reshape), inp_size, inp_size, 1), dtype=np.float32)\n",
    "    y_label = np.empty((len(x_validation_reshape), 10), dtype=np.float32)\n",
    "    for j in range(len(x_validation_reshape)):\n",
    "        X_inp[j] = x_validation_reshape[j]\n",
    "        y_label[j] = y_validation[j]\n",
    "    return (X_inp, y_label)\n",
    "val_x, val_y = val_data()\n",
    "print(val_x.shape, val_y.shape)\n",
    "\n",
    "def get_batch_test(i, size):\n",
    "    inp = [inp for inp in x_test_reshape[(i * size):((i + 1) * size)]]\n",
    "    label = [lab for lab in y_test[(i * size):((i + 1) * size)]]\n",
    "    X_inp = np.empty((len(inp), inp_size, inp_size, 1), dtype=np.float32)\n",
    "    y_label = np.empty((len(inp),10), dtype=np.float32)\n",
    "    for j in range(len(inp)):\n",
    "        X_inp[j] = inp[j]\n",
    "        y_label[j] = label[j]\n",
    "    return (X_inp, y_label)"
   ]
  },
  {
   "cell_type": "code",
   "execution_count": 92,
   "metadata": {},
   "outputs": [],
   "source": [
    "tf.reset_default_graph()"
   ]
  },
  {
   "cell_type": "markdown",
   "metadata": {},
   "source": [
    "<h1>Placeholder</h1>"
   ]
  },
  {
   "cell_type": "code",
   "execution_count": 93,
   "metadata": {},
   "outputs": [],
   "source": [
    "with tf.name_scope(\"data\"):\n",
    "    X = tf.placeholder(dtype=tf.float32, shape=[None, 32, 32, 1])\n",
    "    y = tf.placeholder(dtype=tf.float32, shape=[None, 10])"
   ]
  },
  {
   "cell_type": "markdown",
   "metadata": {},
   "source": [
    "<h1>Define LeNet-5</h1>"
   ]
  },
  {
   "cell_type": "code",
   "execution_count": 94,
   "metadata": {},
   "outputs": [],
   "source": [
    "def LeNet5(X):\n",
    "    layer1_out = tf.layers.conv2d(X, conv1[\"nums\"], conv1[\"size\"], conv1[\"stride\"], 'valid', activation=tf.nn.relu)\n",
    "    maxPool1_out = tf.contrib.layers.max_pool2d(layer1_out, maxPool[\"size\"], maxPool[\"stride\"], 'VALID')\n",
    "    \n",
    "    layer2_out = tf.layers.conv2d(maxPool1_out, conv2[\"nums\"], conv2[\"size\"], conv2[\"stride\"], 'valid', activation=tf.nn.relu)\n",
    "    maxPool2_out = tf.contrib.layers.max_pool2d(layer2_out, maxPool[\"size\"], maxPool[\"stride\"], 'VALID')\n",
    "    \n",
    "    layer2_reshape = tf.reshape(maxPool2_out, shape=[-1, conv2[\"nums\"] * 5 * 5])\n",
    "    fc1 = tf.layers.dense(layer2_reshape, hidden_size1, activation=tf.nn.relu, use_bias=True)\n",
    "    fc2 =  tf.layers.dense(fc1, hidden_size2, activation=tf.nn.relu, use_bias=True)\n",
    "    out = tf.layers.dense(fc2, out_size, activation=tf.nn.softmax, use_bias=True)\n",
    "    return out\n",
    "out = LeNet5(X)"
   ]
  },
  {
   "cell_type": "markdown",
   "metadata": {},
   "source": [
    "<h1>Cost and optimization</h1>"
   ]
  },
  {
   "cell_type": "code",
   "execution_count": 95,
   "metadata": {},
   "outputs": [],
   "source": [
    "loss = tf.nn.softmax_cross_entropy_with_logits_v2(labels=y, logits=out)\n",
    "correct_pred = tf.equal(tf.argmax(out,1),tf.argmax(y,1))\n",
    "accuracy = tf.reduce_mean(tf.cast(correct_pred,tf.float32),name='accuracy')\n",
    "\n",
    "optimizer = tf.train.AdamOptimizer(learning_rate=lr)\n",
    "train_op = optimizer.minimize(loss)\n",
    "init = tf.global_variables_initializer()"
   ]
  },
  {
   "cell_type": "markdown",
   "metadata": {},
   "source": [
    "<h1>Training, validating, testing</h1>\n",
    "<h2>1. Print out validation accuracy after each training epoch</h2>\n",
    "<h2>2. Print out training time on each epoch</h2>\n",
    "<h2>3. Print out testing accuracy</h2>"
   ]
  },
  {
   "cell_type": "code",
   "execution_count": 96,
   "metadata": {},
   "outputs": [
    {
     "name": "stdout",
     "output_type": "stream",
     "text": [
      "epoch 0, Training accuracy= 0.703\n",
      "epoch 0, Validation accuracy= 0.695\n",
      "time elapsed at 0th epoch is:  1  seconds\n",
      "epoch 1, Training accuracy= 0.887\n",
      "epoch 1, Validation accuracy= 0.885\n",
      "time elapsed at 1th epoch is:  3  seconds\n",
      "epoch 2, Training accuracy= 0.895\n",
      "epoch 2, Validation accuracy= 0.893\n",
      "time elapsed at 2th epoch is:  4  seconds\n",
      "epoch 3, Training accuracy= 0.961\n",
      "epoch 3, Validation accuracy= 0.976\n",
      "time elapsed at 3th epoch is:  6  seconds\n",
      "epoch 4, Training accuracy= 0.969\n",
      "epoch 4, Validation accuracy= 0.977\n",
      "time elapsed at 4th epoch is:  8  seconds\n",
      "epoch 5, Training accuracy= 0.969\n",
      "epoch 5, Validation accuracy= 0.981\n",
      "time elapsed at 5th epoch is:  9  seconds\n",
      "epoch 6, Training accuracy= 0.969\n",
      "epoch 6, Validation accuracy= 0.981\n",
      "time elapsed at 6th epoch is:  11  seconds\n",
      "epoch 7, Training accuracy= 0.969\n",
      "epoch 7, Validation accuracy= 0.982\n",
      "time elapsed at 7th epoch is:  12  seconds\n",
      "epoch 8, Training accuracy= 0.969\n",
      "epoch 8, Validation accuracy= 0.986\n",
      "time elapsed at 8th epoch is:  14  seconds\n",
      "epoch 9, Training accuracy= 0.969\n",
      "epoch 9, Validation accuracy= 0.986\n",
      "time elapsed at 9th epoch is:  15  seconds\n",
      "epoch 10, Training accuracy= 0.969\n",
      "epoch 10, Validation accuracy= 0.987\n",
      "time elapsed at 10th epoch is:  17  seconds\n",
      "epoch 11, Training accuracy= 0.977\n",
      "epoch 11, Validation accuracy= 0.987\n",
      "time elapsed at 11th epoch is:  18  seconds\n",
      "epoch 12, Training accuracy= 0.973\n",
      "epoch 12, Validation accuracy= 0.986\n",
      "time elapsed at 12th epoch is:  20  seconds\n",
      "epoch 13, Training accuracy= 0.980\n",
      "epoch 13, Validation accuracy= 0.986\n",
      "time elapsed at 13th epoch is:  21  seconds\n",
      "epoch 14, Training accuracy= 0.980\n",
      "epoch 14, Validation accuracy= 0.987\n",
      "time elapsed at 14th epoch is:  23  seconds\n",
      "epoch 15, Training accuracy= 0.980\n",
      "epoch 15, Validation accuracy= 0.987\n",
      "time elapsed at 15th epoch is:  24  seconds\n",
      "epoch 16, Training accuracy= 0.980\n",
      "epoch 16, Validation accuracy= 0.990\n",
      "time elapsed at 16th epoch is:  26  seconds\n",
      "epoch 17, Training accuracy= 0.980\n",
      "epoch 17, Validation accuracy= 0.990\n",
      "time elapsed at 17th epoch is:  27  seconds\n",
      "epoch 18, Training accuracy= 0.980\n",
      "epoch 18, Validation accuracy= 0.988\n",
      "time elapsed at 18th epoch is:  28  seconds\n",
      "epoch 19, Training accuracy= 0.980\n",
      "epoch 19, Validation accuracy= 0.986\n",
      "time elapsed at 19th epoch is:  30  seconds\n",
      "epoch 20, Training accuracy= 0.980\n",
      "epoch 20, Validation accuracy= 0.989\n",
      "time elapsed at 20th epoch is:  31  seconds\n",
      "epoch 21, Training accuracy= 0.980\n",
      "epoch 21, Validation accuracy= 0.988\n",
      "time elapsed at 21th epoch is:  33  seconds\n",
      "epoch 22, Training accuracy= 0.980\n",
      "epoch 22, Validation accuracy= 0.988\n",
      "time elapsed at 22th epoch is:  34  seconds\n",
      "epoch 23, Training accuracy= 0.977\n",
      "epoch 23, Validation accuracy= 0.988\n",
      "time elapsed at 23th epoch is:  36  seconds\n",
      "epoch 24, Training accuracy= 0.984\n",
      "epoch 24, Validation accuracy= 0.988\n",
      "time elapsed at 24th epoch is:  37  seconds\n",
      "epoch 25, Training accuracy= 0.988\n",
      "epoch 25, Validation accuracy= 0.985\n",
      "time elapsed at 25th epoch is:  39  seconds\n",
      "epoch 26, Training accuracy= 0.980\n",
      "epoch 26, Validation accuracy= 0.990\n",
      "time elapsed at 26th epoch is:  40  seconds\n",
      "epoch 27, Training accuracy= 0.984\n",
      "epoch 27, Validation accuracy= 0.990\n",
      "time elapsed at 27th epoch is:  42  seconds\n",
      "epoch 28, Training accuracy= 0.988\n",
      "epoch 28, Validation accuracy= 0.990\n",
      "time elapsed at 28th epoch is:  43  seconds\n",
      "epoch 29, Training accuracy= 0.984\n",
      "epoch 29, Validation accuracy= 0.990\n",
      "time elapsed at 29th epoch is:  45  seconds\n",
      "Training finished!\n",
      "Test accuracy is: 0.989\n"
     ]
    }
   ],
   "source": [
    "start = time.time()\n",
    "saver = tf.train.Saver()\n",
    "with tf.Session() as sess:\n",
    "    sess.run(init)\n",
    "    for i in range(epoch):\n",
    "        for j in range(pass_num):\n",
    "            batch_x, batch_y = get_batch(j, batch_size)\n",
    "            sess.run(train_op, feed_dict={X:batch_x, y:batch_y})\n",
    "            if j == pass_num - 1:\n",
    "                tr_acc = sess.run(accuracy,feed_dict={X:batch_x, y:batch_y})\n",
    "                print(\"epoch \"+str(i)+\", Training accuracy= {:.3f}\".format(tr_acc))\n",
    "        val_acc = sess.run(accuracy,feed_dict={X:val_x, y:val_y})\n",
    "        print(\"epoch \"+str(i)+\", Validation accuracy= {:.3f}\".format(val_acc))\n",
    "        print(\"time elapsed at \"+str(i)+\"th epoch is: \", int(time.time() - start), \" seconds\")\n",
    "    save_path = saver.save(sess, 'model.ckpt')\n",
    "    print(\"Training finished!\")\n",
    "    acc_test = 0.0\n",
    "    count = 0\n",
    "    pass_num = len(y_test) // batch_size\n",
    "    for k in range(pass_num):\n",
    "            batch_x, batch_y = get_batch_test(k, batch_size)\n",
    "            test_acc = sess.run(accuracy, feed_dict={X:batch_x, y:batch_y})\n",
    "            acc_test += test_acc\n",
    "            count += 1\n",
    "    print(\"Test accuracy is: {:.3f}\".format(acc_test / count))"
   ]
  },
  {
   "cell_type": "code",
   "execution_count": null,
   "metadata": {},
   "outputs": [],
   "source": []
  },
  {
   "cell_type": "code",
   "execution_count": null,
   "metadata": {},
   "outputs": [],
   "source": []
  },
  {
   "cell_type": "code",
   "execution_count": null,
   "metadata": {},
   "outputs": [],
   "source": []
  }
 ],
 "metadata": {
  "kernelspec": {
   "display_name": "Python 3",
   "language": "python",
   "name": "python3"
  },
  "language_info": {
   "codemirror_mode": {
    "name": "ipython",
    "version": 3
   },
   "file_extension": ".py",
   "mimetype": "text/x-python",
   "name": "python",
   "nbconvert_exporter": "python",
   "pygments_lexer": "ipython3",
   "version": "3.5.3"
  }
 },
 "nbformat": 4,
 "nbformat_minor": 2
}
